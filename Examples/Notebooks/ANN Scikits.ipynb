{
 "cells": [
  {
   "cell_type": "markdown",
   "metadata": {},
   "source": [
    "# Multilayer perceptron (Neural networks)\n",
    "\n",
    "In this script we use the multilayer perceptron to simulate a rainfall-runoff process. The demonstration part consits in the loading of data and the implementation in a very simplistic dataset. Your work is to beat the current performance by modifying the NN, based on the syntax here provided, changing the inputs, modifying the loss function, or tunning of the NN hyper parameters.\n",
    "\n",
    "To carry out this tutorial you will have to install the latest version (developer) hosted in github\n",
    "\n",
    "For this you should type `pip install git+git://github.com/scikit-learn/scikit-learn.git` in the cmd. After the installation make sure to restart your python session. make sure installation is working correctly.\n",
    "\n",
    "reference to the NN regressor is on http://scikit-learn.org/dev/modules/generated/sklearn.neural_network.MLPRegressor.html#sklearn.neural_network.MLPRegressor"
   ]
  },
  {
   "cell_type": "code",
   "execution_count": 89,
   "metadata": {
    "collapsed": false
   },
   "outputs": [
    {
     "name": "stdout",
     "output_type": "stream",
     "text": [
      "Populating the interactive namespace from numpy and matplotlib\n"
     ]
    }
   ],
   "source": [
    "# So the plots appear in the results\n",
    "%pylab inline  \n",
    "\n",
    "import numpy as np\n",
    "import pandas as pd\n",
    "import scipy as sp\n",
    "import matplotlib.pyplot as plt\n",
    "from sklearn.neural_network import MLPRegressor  # importing the multi-layer perceptron"
   ]
  },
  {
   "cell_type": "code",
   "execution_count": 90,
   "metadata": {
    "collapsed": true
   },
   "outputs": [],
   "source": [
    "f_data = 'brue_data.csv'\n",
    "\n",
    "# have to keep in mind [Rt, Et, Ret, Qt]\n",
    "data_np = np.loadtxt(f_data, delimiter=',', skiprows=1, usecols=[1, 2, 3, 4])\n",
    "\n",
    "# inputs of the ANN are precipitation, evapotranspiration and qt-1\n",
    "inp = np.transpose(np.vstack([data_np[1:, 0], data_np[:-1, 3]]))\n",
    "out = data_np[1:, 0]\n",
    "\n",
    "# separate into training and validation\n",
    "per_train = 0.7\n",
    "len_train = int(len(inp)*per_train)"
   ]
  },
  {
   "cell_type": "code",
   "execution_count": 91,
   "metadata": {
    "collapsed": false
   },
   "outputs": [],
   "source": [
    "## make nse function\n",
    "def nse(x,y,j=2.0):\n",
    "    \"\"\"\n",
    "    =========================\n",
    "    Nash-Sutcliffe Efficiency\n",
    "    =========================\n",
    "\n",
    "    Parameters\n",
    "    ----------\n",
    "    Performance Functions\n",
    "    x - calculated value\n",
    "    y - recorded value\n",
    "    j - exponent to modify the inflation of the variance (standard NSE j=2)\n",
    "    \"\"\"\n",
    "    a = np.sum(np.power(x-y,j))\n",
    "    b = np.sum(np.power(y-np.average(y),j))\n",
    "    F = 1.0 - a/b\n",
    "    return F\n"
   ]
  },
  {
   "cell_type": "code",
   "execution_count": 92,
   "metadata": {
    "collapsed": false
   },
   "outputs": [],
   "source": [
    "# input parsing\n",
    "inp_train = inp[:len_train, :]\n",
    "inp_val = inp[len_train:, :]\n",
    "\n",
    "out_train = out[:len_train]\n",
    "out_val = out[len_train:]"
   ]
  },
  {
   "cell_type": "code",
   "execution_count": 93,
   "metadata": {
    "collapsed": true
   },
   "outputs": [],
   "source": [
    "# input regularisation\n",
    "# rank_inp = np.max(inp, 0) - np.min(inp, 0)\n",
    "# min_inp = np.min(inp, 0)\n",
    "# rank_out = np.max(out, 0) - np.min(out, 0)\n",
    "# min_out = np.min(out, 0)\n",
    "\n",
    "# inputs\n",
    "# inp_train = np.array([[(inp[i, j] - min_inp[j])/rank_inp[j] \n",
    "#                        for i in xrange(len_train)] for j in xrange(len(inp[0]))])\n",
    "\n",
    "# inp_val = np.array([[(inp[i, j] - min_inp[j])/rank_inp[j] \n",
    "#                        for i in xrange(len_train, len(inp))] for j in xrange(len(inp[0]))])\n",
    "\n",
    "# # Outputs\n",
    "# out_train = np.array([(out[i] - min_out)/rank_out for i in xrange(len_train)])\n",
    "\n",
    "# out_val = np.array([(out[i] - min_out)/rank_out for i in xrange(len_train, len(out))])"
   ]
  },
  {
   "cell_type": "code",
   "execution_count": 94,
   "metadata": {
    "collapsed": false
   },
   "outputs": [
    {
     "name": "stdout",
     "output_type": "stream",
     "text": [
      "nse training: 0.832\n",
      "nse validation: 0.907\n"
     ]
    }
   ],
   "source": [
    "# Training of the NN. Minimises the squarred loss\n",
    "\n",
    "nn = MLPRegressor(hidden_layer_sizes=(15, ), activation='logistic', solver='sgd', \n",
    "                  alpha=0.0001, batch_size='auto', learning_rate='constant', \n",
    "                  learning_rate_init=0.001, power_t=0.5, max_iter=200, \n",
    "                  shuffle=True, random_state=None, tol=0.0001, verbose=False, \n",
    "                  warm_start=False, momentum=0.9, nesterovs_momentum=True, \n",
    "                  early_stopping=False, validation_fraction=0.1, beta_1=0.9, \n",
    "                  beta_2=0.999, epsilon=1e-08)\n",
    "\n",
    "nn.fit(inp_train, out_train)\n",
    "q_nn_tr = nn.predict(inp_train)\n",
    "q_nn_val = nn.predict(inp_val)\n",
    "# print result of squarred error\n",
    "print('nse training: {0:.3f}'.format(nse(q_nn_tr, out_train)))\n",
    "print('nse validation: {0:.3f}'.format(nse(q_nn_val, out_val)))"
   ]
  },
  {
   "cell_type": "code",
   "execution_count": 95,
   "metadata": {
    "collapsed": false
   },
   "outputs": [
    {
     "data": {
      "image/png": "[encoded data removed]",
      "text/plain": [
       "<matplotlib.figure.Figure at 0xc31a518>"
      ]
     },
     "metadata": {},
     "output_type": "display_data"
    },
    {
     "data": {
      "image/png": "[encoded data removed]",
      "text/plain": [
       "<matplotlib.figure.Figure at 0xada83c8>"
      ]
     },
     "metadata": {},
     "output_type": "display_data"
    }
   ],
   "source": [
    "# results\n",
    "plt.figure()\n",
    "plt.title('Training')\n",
    "plt.plot(q_nn_tr, '.', label='Q NN')\n",
    "plt.plot(out_train, label='Q rec')\n",
    "plt.legend()\n",
    "plt.grid()\n",
    "\n",
    "plt.figure()\n",
    "plt.title('Validation')\n",
    "plt.plot(q_nn_val, '.', label='Q NN')\n",
    "plt.plot(out_val, label='Q rec')\n",
    "plt.legend()\n",
    "plt.grid()\n",
    "plt.show()"
   ]
  }
 ],
 "metadata": {
  "kernelspec": {
   "display_name": "Python 2",
   "language": "python",
   "name": "python2"
  },
  "language_info": {
   "codemirror_mode": {
    "name": "ipython",
    "version": 2
   },
   "file_extension": ".py",
   "mimetype": "text/x-python",
   "name": "python",
   "nbconvert_exporter": "python",
   "pygments_lexer": "ipython2",
   "version": "2.7.13"
  }
 },
 "nbformat": 4,
 "nbformat_minor": 0
}
